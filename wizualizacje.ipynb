{
 "cells": [
  {
   "cell_type": "code",
   "execution_count": 1,
   "metadata": {},
   "outputs": [],
   "source": [
    "%config InlineBackend.figure_formats = ['svg']\n",
    "from ipywidgets import *\n",
    "import matplotlib.pyplot as plt\n",
    "import numpy as np\n",
    "import pandas as pd\n",
    "import scipy.stats as stats\n",
    "from matplotlib.lines import Line2D\n",
    "import matplotlib.patches as mpatches\n",
    "plt.rcParams['axes.grid'] = True"
   ]
  },
  {
   "cell_type": "code",
   "execution_count": 29,
   "metadata": {},
   "outputs": [],
   "source": [
    "def describe(data):\n",
    "    df = pd.DataFrame(data)\n",
    "    print(df.describe())\n",
    "\n",
    "def histogram(data, a=1, b=0):\n",
    "    data = data*a+b\n",
    "    plt.hist(x=data, bins='auto', color='#521422', alpha=0.7, rwidth=0.85)\n",
    "    plt.grid(axis='y', alpha=0.75)\n",
    "    plt.xlabel('X')\n",
    "    plt.ylabel('Liczność')\n",
    "    plt.xlim(xmin=-13,xmax=13)\n",
    "    describe(data)\n",
    "    \n",
    "def skewness(a=0):\n",
    "    data = (stats.skewnorm(a).rvs(1000)*10).astype(int)\n",
    "    \n",
    "    _, _, patches = plt.hist(x=data, bins='auto', color='#521422', alpha=0.7, rwidth=0.85)\n",
    "    plt.grid(axis='y', alpha=0.75)\n",
    "    plt.xlabel('X')\n",
    "    plt.ylabel('Liczność')\n",
    "    \n",
    "    stat = [np.mean(data), np.median(data), stats.mode(data)[0][0]]\n",
    "    cols = ['r', 'g', 'b']\n",
    "    lines = [Line2D([0], [0], color=c, lw=4) for c in cols]\n",
    "    \n",
    "    for col, st in zip(cols, stat):\n",
    "        for i, patch in enumerate(patches):\n",
    "            if st < patch.get_x():\n",
    "                patches[i-1].set_color(col)\n",
    "                break\n",
    "            if i == len(patches)-1:\n",
    "                patches[i].set_color(col)\n",
    "     \n",
    "    plt.suptitle(\"współczynnik skośności=\"+str(round(stats.skew(data, bias=False),3)))\n",
    "    plt.legend(lines,[txt +'='+str(stat[i]) for i, txt in enumerate(['Średnia', 'Mediana', 'Dominanta'])])   \n",
    "    \n",
    "def binary(p=0.5):\n",
    "    plt.stem([0,1], [1-p, p], use_line_collection=True)\n",
    "    plt.xlabel(\"x\")\n",
    "    plt.ylabel(\"P(X=x)\")\n",
    "    \n",
    "def binom(n=10, p=0.5):\n",
    "    plt.stem(range(n+1), stats.binom.pmf(range(n+1), n, p), use_line_collection=True)\n",
    "    plt.xlabel(\"x\")\n",
    "    plt.ylabel(\"P(X=x)\")\n",
    "\n",
    "def uniform(a=0, b=1):\n",
    "    if a >= b:\n",
    "        a = b-1\n",
    "    x_lim = 4\n",
    "    p = 1/(b-a)\n",
    "    y = [0, p, 0]\n",
    "    plt.hlines(y, [-x_lim, a, b], [a, b, x_lim], color='#1f77b4')\n",
    "    plt.plot([a, b], [p, p], 'o')\n",
    "    plt.plot([a, b], [0, 0], 'o', fillstyle='none', color='#1f77b4')\n",
    "    plt.xlabel(\"x\")\n",
    "    plt.ylabel(\"f(x)\")\n",
    "    plt.xlim(-x_lim, x_lim)\n",
    "    \n",
    "def normal_param(mu=0, sigma=1):\n",
    "    x_min = -10\n",
    "    x_max = 10\n",
    "    x = np.linspace(x_min, x_max, 100)\n",
    "    plt.plot(x, stats.norm.pdf(x, mu, sigma))\n",
    "    plt.xlabel(\"x\")\n",
    "    plt.ylabel(\"f(x)\")\n",
    "    plt.xlim(x_min,x_max)\n",
    "    plt.ylim(0,0.45)\n",
    "\n",
    "def normal_s(mu=0, sigma=1, a=0, b=1):\n",
    "    x_min = -10\n",
    "    x_max = 10\n",
    "    x_s = np.linspace(-3, 3, 100)\n",
    "    x = np.linspace(x_min, x_max, 100)\n",
    "    plt.plot(x_s, stats.norm.pdf(x_s, 0, 1))\n",
    "    plt.plot(x, stats.norm.pdf(x, mu+a, sigma/b))\n",
    "    plt.xlabel(\"x\")\n",
    "    plt.ylabel(\"f(x)\")\n",
    "    plt.xlim(x_min,x_max)\n",
    "    plt.ylim(0,0.45)\n",
    "\n",
    "def clt(n = 1):\n",
    "    N = 10000\n",
    "    data = [np.mean(np.random.uniform(low=0, high=1, size=(n,))) for i in range(N)]\n",
    "    weights = np.ones_like(data)/float(len(data))\n",
    "    mu, std = stats.norm.fit(data)\n",
    "    xmin, xmax = plt.xlim()\n",
    "    x = np.linspace(xmin, xmax, 100)\n",
    "    p = stats.norm.pdf(x, mu, std)\n",
    "    plt.hist(x=data, edgecolor='black', linewidth=1.2, density=True, weights=weights)\n",
    "    plt.plot(x, p, 'k', linewidth=2)\n",
    "    plt.xlabel('X')\n",
    "    \n",
    "def monte_carlo(k=1):\n",
    "    n = 10**k\n",
    "    circle = plt.Circle((0, 0), 1, alpha=0.5)\n",
    "    fig, ax = plt.subplots(figsize=(5,5))\n",
    "    ax.add_artist(circle)\n",
    "    points = np.random.uniform(size=(2,n))\n",
    "    plt.scatter(*points, s=5, c='r')\n",
    "    pi = np.mean(np.linalg.norm(points, axis=0)<1)*4\n",
    "    plt.title(r\"$n=$\"+str(n)+r\"  $\\pi=$\"+str(pi))\n",
    "    plt.xlim(0,1)\n",
    "    plt.ylim(0,1)\n",
    "        \n",
    "def conf_int(n=10, alpha=0.05):\n",
    "    plt.subplots(figsize=(10,5))\n",
    "    mu = 0\n",
    "    sigma = 1\n",
    "    ints_num = 100\n",
    "    points = np.random.normal(mu, sigma, (ints_num, n))\n",
    "    xs = np.mean(points, axis=1)\n",
    "    z = stats.norm.ppf(1-alpha/2, mu, sigma)\n",
    "    left = xs - z*sigma/np.sqrt(n)\n",
    "    right = xs + z*sigma/np.sqrt(n)\n",
    "    y = np.linspace(0, 100, ints_num)\n",
    "    in_count = np.mean([1 if l <= mu <= r else 0 for l,r in zip(left, right)])\n",
    "    colors = ['#1f77b4' if l <= mu <= r else '#ff7f50' for l,r in zip(left, right)]\n",
    "    plt.vlines(y, left, right, color=colors)\n",
    "    plt.plot(y, xs, '.')\n",
    "    plt.axhline(y=mu, color='gray', linestyle='--')\n",
    "    plt.ylim([-1.5, 1.5])\n",
    "    plt.title(\"Proporcja przedziałów zawierających mu: \"+str(in_count))\n",
    "    \n",
    "def fill(lower, upper, mu, sigma, col='#add8e6', ax=None):    \n",
    "    x = np.linspace(lower, upper, 100)\n",
    "    y = stats.norm.pdf(x,mu,sigma)\n",
    "    if ax:\n",
    "        ax.fill_between(x, y, color=col, alpha=0.5)\n",
    "    else:\n",
    "        plt.fill_between(x, y, color=col, alpha=0.5)\n",
    "    \n",
    "def norm_filled(mu, sigma, filled=False, ax=None):\n",
    "    x_min = mu-3.5*sigma\n",
    "    x_max = mu+3.5*sigma\n",
    "    x = np.linspace(x_min, x_max, 100)\n",
    "    if not ax:\n",
    "        plt.plot(x, stats.norm.pdf(x, mu, sigma))\n",
    "    else:\n",
    "        ax.plot(x, stats.norm.pdf(x, mu, sigma))\n",
    "    if filled:\n",
    "        fill(mu-3.5*sigma, mu+3.5*sigma, mu, sigma, ax=ax)\n",
    "    return x_min, x_max\n",
    "\n",
    "def critical_region(typ_testu=\"prawostronny\"):\n",
    "    mu = 0\n",
    "    sigma = 1\n",
    "    x_min, x_max = norm_filled(mu, sigma)\n",
    "    alpha = 0.05\n",
    "    if typ_testu == \"lewostronny\":\n",
    "        z_crit = stats.norm.ppf(alpha, mu, sigma)\n",
    "        fill(x_min, z_crit, mu, sigma, \"#ff4c4c\")\n",
    "        fill(z_crit, x_max, mu, sigma)\n",
    "        plt.title(r\"Test lewostronny: $C_{kr} = (-\\infty, -z_{kr})$\")\n",
    "        plt.text(-2.25, 0.02, r\"$\\alpha\\%$\", fontsize=12)\n",
    "    elif typ_testu == \"prawostronny\":\n",
    "        z_crit = stats.norm.ppf(1-alpha, mu, sigma)\n",
    "        fill(x_min, z_crit, mu, sigma)\n",
    "        fill(z_crit, x_max, mu, sigma, \"#ff4c4c\")\n",
    "        plt.title(r\"Test prawostronny: $C_{kr} = (z_{kr},\\infty)$\")\n",
    "        plt.text(1.75, 0.02, r\"$\\alpha\\%$\", fontsize=12)\n",
    "    else:\n",
    "        z_crit = stats.norm.ppf(alpha/2, mu, sigma)\n",
    "        fill(z_crit, -1*z_crit, mu, sigma)\n",
    "        fill(x_min, z_crit, mu, sigma, \"#ff4c4c\")\n",
    "        fill(-1*z_crit, x_max, mu, sigma, \"#ff4c4c\")\n",
    "        plt.title(r\"Test: dwustronny: $C_{kr} = (-\\infty, -z_{kr}) \\cup  (z_{kr},\\infty)$\")\n",
    "        plt.text(2, 0.005, r\"$\\alpha/2\\%$\", fontsize=10)\n",
    "        plt.text(-2.5, 0.005, r\"$\\alpha/2\\%$\", fontsize=10)\n",
    "\n",
    "def p_value(x_bar=106):\n",
    "    fig, axes = plt.subplots(nrows=1, ncols=2, figsize=(12,5))\n",
    "    mu = 0\n",
    "    sigma = 1\n",
    "    alpha = 0.05\n",
    "    z_crit = stats.norm.ppf(1-alpha, mu, sigma)\n",
    "    for ax in axes:\n",
    "        norm_filled(mu, sigma, True, ax)\n",
    "    fill(z_crit, 3.5, mu, sigma, \"#ff4c4c\", axes[0])\n",
    "    x_bar = (x_bar-100)/(15/np.sqrt(30))\n",
    "    axes[0].vlines(x=x_bar, ymin=0, ymax=stats.norm.pdf(x_bar, mu, sigma))\n",
    "    axes[0].set_title(r\"z=\"+str(round(x_bar,2)))\n",
    "    axes[1].vlines(x=x_bar, ymin=0, ymax=stats.norm.pdf(x_bar, mu, sigma))\n",
    "    fill(x_bar, 3.5, mu, sigma, \"#ffa500\", axes[1])\n",
    "    p_val = 1-stats.norm.cdf(x_bar, mu, sigma)\n",
    "    axes[1].set_title(r\"p-wartość=\"+str(round(p_val,4)))\n",
    "\n",
    "def chi_sq(k=1):\n",
    "    fig, axes = plt.subplots(figsize=(10,5))\n",
    "    x = np.linspace(0, 80, 1000)\n",
    "    chi2 = stats.chi2.pdf(x, k)\n",
    "    plt.plot(x, chi2)\n",
    "    plt.xlabel(\"x\")\n",
    "    plt.ylabel(\"f(x)\")\n",
    "    plt.title(r\"$\\chi^2($k=\"+str(k)+\"$)$\")\n",
    "    plt.xlim(0,80)\n",
    "\n",
    "def t_dist(k=1):\n",
    "    fig, axes = plt.subplots(figsize=(10,5))\n",
    "    x = np.linspace(-3.25, 3.25, 1000)\n",
    "    t = stats.t.pdf(x, k)\n",
    "    norm = stats.norm.pdf(x)\n",
    "    plt.plot(x, t, label=\"t(\"+str(k)+\")\")\n",
    "    plt.plot(x, norm, c='k', linestyle=\"--\", label=\"N(0,1)\")\n",
    "    quant = -1.64\n",
    "    plt.vlines(x=quant, ymin=0, ymax=stats.t.pdf(quant, k), color=\"#ff4c4c\", alpha=0.5)\n",
    "    x2 = np.linspace(-3.25, -1.64, 1000)\n",
    "    t2 = stats.t.pdf(x2, k)\n",
    "    plt.fill_between(x2, t2, color=\"#ff4c4c\", alpha=0.5)\n",
    "    plt.xlabel(\"x\")\n",
    "    plt.ylabel(\"f(x)\")\n",
    "    plt.title(r\"$P(T<\"+str(quant)+\")=\"+str(round(stats.t.cdf(quant, k),3))+\"$\")\n",
    "    plt.xlim(-3.25,3.25)\n",
    "    plt.ylim(0, 0.42)\n",
    "    plt.legend()\n",
    "    plt.grid()\n",
    "    \n",
    "def alpha_beta(alpha=0.05, mu1=107, n=30):\n",
    "    mu0 = 100\n",
    "    sigma = 15/np.sqrt(n)\n",
    "    xs = [np.linspace(m-3.5*sigma, m+3.5*sigma, 100) for m in [mu0, mu1]]\n",
    "    for x, m in zip(xs,[mu0, mu1]):\n",
    "        plt.plot(x, stats.norm.pdf(x, m, sigma))\n",
    "    z_crit = stats.norm.ppf(1-alpha, mu0, sigma)\n",
    "    fill(z_crit, mu0+3.5*sigma, mu0, sigma, \"#ff4c4c\")\n",
    "    fill(mu1-3.5*sigma, z_crit, mu1, sigma, \"#98fb98\")\n",
    "    plt.gca().set_ylim(bottom=0)\n",
    "    beta = stats.norm.cdf(z_crit, mu1, sigma)\n",
    "    plt.title(r\"$\\beta=$\"+str(round(beta,2)))\n",
    "    a = mpatches.Patch(color='#ff4c4c', label=r'$\\alpha$', alpha=0.5)\n",
    "    b = mpatches.Patch(color='#98fb98', label=r'$\\beta$', alpha=0.5)\n",
    "    plt.legend(handles=[a, b])\n",
    "    \n",
    "def norm(n=30, x_bar=98):\n",
    "    mu = 100\n",
    "    sigma = 15/np.sqrt(n)\n",
    "    norm_plain(mu, sigma)\n",
    "    quant = -1.64*sigma+mu\n",
    "    plt.vlines(x=x_bar, ymin=0, ymax=stats.norm.pdf(x_bar, mu, sigma), color=\"k\", alpha=0.5)\n",
    "    x2 = np.linspace(mu-3.25*sigma, quant, 1000)\n",
    "    norm2 = stats.norm.pdf(x2, mu, sigma)\n",
    "    plt.fill_between(x2, norm2, color=\"#ff4c4c\", alpha=0.5)\n",
    "    plt.xlim(91, 109)\n",
    "    \n",
    "def norm_plain(mu, sigma):\n",
    "    fig, axes = plt.subplots(figsize=(10,5))\n",
    "    x = np.linspace(mu-3.25*sigma, mu+3.25*sigma, 1000)\n",
    "    norm = stats.norm.pdf(x, mu, sigma)\n",
    "    plt.plot(x, norm, mu, sigma)\n",
    "    plt.xlabel(\"x\")\n",
    "    plt.ylabel(\"f(x)\")\n",
    "    plt.xlim(mu-3.25*sigma, mu+3.25*sigma)\n",
    "    ymax = stats.norm.pdf(mu, mu, sigma)\n",
    "    ymax += 0.025*ymax\n",
    "    plt.ylim(0, ymax)\n",
    "    plt.grid()\n",
    "    \n",
    "def conf_int_test(x_bar=98):\n",
    "    n = 30\n",
    "    mu = 100\n",
    "    sigma = 15/np.sqrt(n)\n",
    "    norm_plain(mu, sigma)\n",
    "    alpha = 0.05\n",
    "    quants = [stats.norm.ppf(a, mu, sigma) for a in [alpha/2, 1-alpha/2]]\n",
    "    for start, end in zip([mu-3.25*sigma, quants[1]], [quants[0], mu+3.25*sigma]):\n",
    "        x2 = np.linspace(start, end, 1000)\n",
    "        norm2 = stats.norm.pdf(x2, mu, sigma)\n",
    "        plt.fill_between(x2, norm2, color=\"#ff4c4c\", alpha=0.5)\n",
    "    quant = stats.norm.ppf(1-alpha/2)\n",
    "    delta = quant*sigma\n",
    "    lower, upper = x_bar-delta, x_bar+delta\n",
    "    plt.scatter(x_bar, 0.001, c='r', zorder=2)\n",
    "    plt.hlines(y=0.001, xmin=lower, xmax=upper, color='r')\n",
    "    plt.vlines(x=lower, ymin=0, ymax=0.005, color='r')\n",
    "    plt.vlines(x=upper, ymin=0, ymax=0.005, color='r')\n",
    "    \n",
    "def corr_examples(przykład=\"1\", typ='kowariancja', pokaż=False):\n",
    "    x = np.linspace(1, 10, 100)\n",
    "    y = -x**3 + np.random.normal(0,100,100) if przykład==\"1\" else np.cos(x) + np.random.normal(0,0.1,100)\n",
    "    plt.scatter(x, y)\n",
    "    plt.xlabel(\"x\")\n",
    "    plt.ylabel(\"y\")\n",
    "    if pokaż:\n",
    "        if typ==\"korelacja\":\n",
    "            plt.title(\"r=\"+str(round(np.corrcoef(x, y)[0][1],3)))\n",
    "        else:\n",
    "            plt.title(\"c=\"+str(round(np.cov(x, y)[0][1],3)))\n",
    "\n",
    "def regression(nachylenie=5, sd=0, pokaż=False):\n",
    "    fig, axes = plt.subplots(figsize=(7,7))\n",
    "    x = np.linspace(0, 1, 100)\n",
    "    yt = 1 + nachylenie * x\n",
    "    plt.plot(x, yt)\n",
    "    y = yt+ np.random.normal(0,sd,100)\n",
    "    plt.scatter(x, y)\n",
    "    my = np.mean(y)\n",
    "    ssr = sum((yt-my)**2)\n",
    "    sse = sum((y-yt)**2)\n",
    "    sst = ssr+sse\n",
    "    plt.ylim(-30,30)\n",
    "    plt.xlabel(\"x\")\n",
    "    plt.ylabel(\"y\")\n",
    "    \n",
    "    if pokaż:\n",
    "       plt.title(\"SST=\"+str(round(sst,2))+\"   SSR=\"+str(round(ssr, 2))+\"   SSE=\"+str(round(sse,2)))\n",
    "    \n",
    "def spearman_pearson(przykład=\"1\", pokaż=False):\n",
    "    fig, axes = plt.subplots(figsize=(5,5))\n",
    "    n = 50\n",
    "    x = np.linspace(0, 1, n)\n",
    "    y = x \n",
    "    if przykład==\"2\":\n",
    "        y = x**5\n",
    "    elif przykład==\"3\":\n",
    "        y = x + np.random.normal(0, 0.2, n)\n",
    "        x[-5:] = np.linspace(2, 3, 5)\n",
    "    elif przykład==\"4\":\n",
    "        y = x + np.random.normal(0, 1, n)\n",
    "    plt.scatter(x, y)\n",
    "    plt.xlabel(\"x\")\n",
    "    plt.ylabel(\"y\")\n",
    "    r = round(stats.pearsonr(x,y)[0],2)\n",
    "    rs = round(stats.spearmanr(x,y)[0],2)\n",
    "    if pokaż:\n",
    "        plt.title(r\"$r_{Pearson}=\"+str(r)+\"$   $r_{Spearman}=\"+str(rs)+\"$\")\n",
    "    plt.grid()"
   ]
  },
  {
   "cell_type": "markdown",
   "metadata": {},
   "source": [
    "### Spis treści\n",
    "<a href='#r1'>Wstępna analiza danych</a>:\n",
    "- <a href='#1.1'>Przemnożenie/dodanie stałej do danych a wskaźniki położenia i rozproszeniah</a>\n",
    "- <a href='#1.2'>Skośność a średnia, mediana i dominanta w rozkładzie unimodalnym</a>\n",
    "\n",
    "<a href='#r2'>Od modelu probabilistycznego do wnioskowania statystycznego</a>:\n",
    "- <a href='#2.1'>Rozkład dwupunktowy (zero-jedynkowy)</a>\n",
    "- <a href='#2.2'>Rozkład dwumianowy</a>\n",
    "- <a href='#2.3'>Rozkład jednostajny ciągły</a>\n",
    "- <a href='#2.4'>Rozkład normalny</a>\n",
    "- <a href='#2.5'>Standaryzacja rozkładu normalnego</a>\n",
    "- <a href='#2.6'>Centralne twierdzenie graniczne</a>\n",
    "\n",
    "<a href='#r3'>Wnioskowanie statystyczne</a>:\n",
    "- <a href='#3.1'>Przedział ufności</a>\n",
    "- <a href='#3.2'>Zbiór krytyczny</a>\n",
    "- <a href='#3.3'>P-wartość (test prawostronny)</a>\n",
    "- <a href='#3.4'>Rozkład $\\chi^2$</a>\n",
    "- <a href='#3.5'>Rozkład t a rozkład normalny</a>\n",
    "- <a href='#3.6'>Błędy I i II rodzaju</a>\n",
    "- <a href='#3.7'>Test statystyczny a przedział ufności</a>\n",
    "\n",
    "<a href='#r4'>Analiza zależności zmiennych ilościowych</a>:\n",
    "- <a href='#4.1'>Kowariancja i korelacja</a>\n",
    "- <a href='#4.2'>Rozkład całkowitej zmienności zmiennej objaśnianej</a>\n",
    "\n",
    "<a href='#r8'>Metoda Monte Carlo</a>:\n",
    "- <a href='#8.1'>Zastosowanie metody Monte Carlo do szacowania wartości liczby Pi</a>\n",
    "\n",
    "<a href='#r9'>Metody Rangowe</a>:\n",
    "- <a href='#9.1'>Współczynnik korelacji Spearmana a Pearsona</a>"
   ]
  },
  {
   "cell_type": "markdown",
   "metadata": {},
   "source": [
    "### <a id='r1'></a>Wstępna analiza danych"
   ]
  },
  {
   "cell_type": "markdown",
   "metadata": {},
   "source": [
    "#### <a id='1.1'></a>Przemnożenie/dodanie stałej do danych a wskaźniki położenia i rozproszenia"
   ]
  },
  {
   "cell_type": "markdown",
   "metadata": {},
   "source": [
    "Poniższy wykres przedstawia 1000 wartości wylosowanych z rozkładu normalnego o wartości oczekiwanej 1 i odchyleniu standardowym 1. Nad wykresem przestawione są liczność zbioru danych oraz wartości miar położenia i rozproszenia. Suwaki pozwalają na przemnożenie każdej obserwacji ze zbioru danych przez stałą (*a*) oraz dodanie do każdej obserwacji stałej (*b*).  "
   ]
  },
  {
   "cell_type": "code",
   "execution_count": 3,
   "metadata": {},
   "outputs": [
    {
     "data": {
      "application/vnd.jupyter.widget-view+json": {
       "model_id": "1961f831129142068c9a0932b28eab44",
       "version_major": 2,
       "version_minor": 0
      },
      "text/plain": [
       "interactive(children=(IntSlider(value=1, description='a', max=3, min=-3), IntSlider(value=0, description='b', …"
      ]
     },
     "metadata": {},
     "output_type": "display_data"
    },
    {
     "data": {
      "text/plain": [
       "<function __main__.histogram(data, a=1, b=0)>"
      ]
     },
     "execution_count": 3,
     "metadata": {},
     "output_type": "execute_result"
    }
   ],
   "source": [
    "data = np.random.normal(loc=1, scale=1, size=1000)   \n",
    "interact(histogram, data=fixed(data), a=(-3,3,1), b=(-10,10,1))"
   ]
  },
  {
   "cell_type": "markdown",
   "metadata": {},
   "source": [
    "#### <a id='1.2'></a>Skośność a średnia, mediana i dominanta w rozkładzie unimodalnym"
   ]
  },
  {
   "cell_type": "markdown",
   "metadata": {},
   "source": [
    "Poniższy wykres przedstawia histogram utworzony dla 1000 losowo wygenerowanych wartości. Na czerwono oznaczono słupek, w którym znajduje się średnia, na zielono słupek mediany, na niebiesko słupek dominanty. Jeżeli dwie lub więcej z tych miar znalazły się w słupku oznaczony jest on tylko jednym kolorem. Nad wykresem podana jest wartość skorygowanego współczynnika skośności Fishera-Pearsona. Skośność rozkładu możesz modyfikować za pomocą parametru *a*:\n",
    "- *a*>0 - rozkład prawoskośny,\n",
    "- *a<0* - rozkład lewoskośny."
   ]
  },
  {
   "cell_type": "code",
   "execution_count": 4,
   "metadata": {},
   "outputs": [
    {
     "data": {
      "application/vnd.jupyter.widget-view+json": {
       "model_id": "95a9223e4cbf46b2966b60f95b1001f7",
       "version_major": 2,
       "version_minor": 0
      },
      "text/plain": [
       "interactive(children=(IntSlider(value=0, description='a', max=20, min=-20, step=2), Output()), _dom_classes=('…"
      ]
     },
     "metadata": {},
     "output_type": "display_data"
    },
    {
     "data": {
      "text/plain": [
       "<function __main__.skewness(a=0)>"
      ]
     },
     "execution_count": 4,
     "metadata": {},
     "output_type": "execute_result"
    }
   ],
   "source": [
    "interact(skewness, a=(-20,20,2))"
   ]
  },
  {
   "cell_type": "markdown",
   "metadata": {},
   "source": [
    "### <a id='r2'></a>Od modelu probabilistycznego do wnioskowania statystycznego"
   ]
  },
  {
   "cell_type": "markdown",
   "metadata": {},
   "source": [
    "#### <a id='2.1'></a>Rozkład dwupunktowy (zero-jedynkowy)"
   ]
  },
  {
   "cell_type": "markdown",
   "metadata": {},
   "source": [
    "Parametry:\n",
    "- *p* - prawdopodobieństwo sukcesu."
   ]
  },
  {
   "cell_type": "code",
   "execution_count": 5,
   "metadata": {},
   "outputs": [
    {
     "data": {
      "application/vnd.jupyter.widget-view+json": {
       "model_id": "1c95b49c31da49c5afb4bb9bd32613c7",
       "version_major": 2,
       "version_minor": 0
      },
      "text/plain": [
       "interactive(children=(FloatSlider(value=0.5, description='p', max=1.0), Output()), _dom_classes=('widget-inter…"
      ]
     },
     "metadata": {},
     "output_type": "display_data"
    },
    {
     "data": {
      "text/plain": [
       "<function __main__.binary(p=0.5)>"
      ]
     },
     "execution_count": 5,
     "metadata": {},
     "output_type": "execute_result"
    }
   ],
   "source": [
    "interact(binary, p=(0,1,0.1))"
   ]
  },
  {
   "cell_type": "markdown",
   "metadata": {},
   "source": [
    "#### <a id='2.2'></a>Rozkład dwumianowy"
   ]
  },
  {
   "cell_type": "markdown",
   "metadata": {},
   "source": [
    "Parametry:\n",
    "- *n* - liczba doświadczeń,\n",
    "- *p* - prawdopodobieństwo sukcesu."
   ]
  },
  {
   "cell_type": "code",
   "execution_count": 6,
   "metadata": {},
   "outputs": [
    {
     "data": {
      "application/vnd.jupyter.widget-view+json": {
       "model_id": "2ae6327367f548fe94751bbc442c1ef2",
       "version_major": 2,
       "version_minor": 0
      },
      "text/plain": [
       "interactive(children=(IntSlider(value=10, description='n', max=10, min=5), FloatSlider(value=0.5, description=…"
      ]
     },
     "metadata": {},
     "output_type": "display_data"
    },
    {
     "data": {
      "text/plain": [
       "<function __main__.binom(n=10, p=0.5)>"
      ]
     },
     "execution_count": 6,
     "metadata": {},
     "output_type": "execute_result"
    }
   ],
   "source": [
    "interact(binom, p=(0,1,0.1), n=(5,10,1))"
   ]
  },
  {
   "cell_type": "markdown",
   "metadata": {},
   "source": [
    "#### <a id='2.3'></a>Rozkład jednostajny ciągły"
   ]
  },
  {
   "cell_type": "markdown",
   "metadata": {},
   "source": [
    "Parametry:\n",
    "- *a* - dolna granica przedziału,\n",
    "- *b* - górna granica przedziału."
   ]
  },
  {
   "cell_type": "code",
   "execution_count": 30,
   "metadata": {},
   "outputs": [
    {
     "data": {
      "application/vnd.jupyter.widget-view+json": {
       "model_id": "15e7c738bba34bd794976108c2cfb64e",
       "version_major": 2,
       "version_minor": 0
      },
      "text/plain": [
       "interactive(children=(IntSlider(value=0, description='a', max=3, min=-3), IntSlider(value=1, description='b', …"
      ]
     },
     "metadata": {},
     "output_type": "display_data"
    },
    {
     "data": {
      "text/plain": [
       "<function __main__.uniform(a=0, b=1)>"
      ]
     },
     "execution_count": 30,
     "metadata": {},
     "output_type": "execute_result"
    }
   ],
   "source": [
    "interact(uniform, a=(-3,3,1), b=(-3,3,1))"
   ]
  },
  {
   "cell_type": "markdown",
   "metadata": {},
   "source": [
    "#### <a id='2.4'></a>Rozkład normalny"
   ]
  },
  {
   "cell_type": "markdown",
   "metadata": {},
   "source": [
    "Parametry:\n",
    "- *mu* - wartość oczekiwana,\n",
    "- *sigma* - odchylenie standardowe."
   ]
  },
  {
   "cell_type": "code",
   "execution_count": 8,
   "metadata": {},
   "outputs": [
    {
     "data": {
      "application/vnd.jupyter.widget-view+json": {
       "model_id": "47de9007812541e7a6e0da3e9f615b80",
       "version_major": 2,
       "version_minor": 0
      },
      "text/plain": [
       "interactive(children=(IntSlider(value=0, description='mu', max=10, min=-10), IntSlider(value=1, description='s…"
      ]
     },
     "metadata": {},
     "output_type": "display_data"
    },
    {
     "data": {
      "text/plain": [
       "<function __main__.normal_param(mu=0, sigma=1)>"
      ]
     },
     "execution_count": 8,
     "metadata": {},
     "output_type": "execute_result"
    }
   ],
   "source": [
    "interact(normal_param, mu=(-10,10,1), sigma=(1,5,1))"
   ]
  },
  {
   "cell_type": "markdown",
   "metadata": {},
   "source": [
    "#### <a id='2.5'></a>Standaryzacja rozkładu normalnego"
   ]
  },
  {
   "cell_type": "markdown",
   "metadata": {},
   "source": [
    "Niebieska krzywa przedstawia rozkład normalny o wartości oczekiwanej 0 i odchyleniu standardowym 1. Pomarańczowa krzywa przedstawia rozkład normalny o losowej wartości oczekiwanej (*m*) i odchyleniu standardowym (*sd*) wyświetlonych poniżej. Za pomocą suwaków możesz od pomarańczowego rozkładu odjąć stałą (*a*) oraz podzielić go przez stałą (*b*) aby go ustandaryzować."
   ]
  },
  {
   "cell_type": "code",
   "execution_count": 9,
   "metadata": {},
   "outputs": [
    {
     "name": "stdout",
     "output_type": "stream",
     "text": [
      "m = -1 sd = 3\n"
     ]
    },
    {
     "data": {
      "application/vnd.jupyter.widget-view+json": {
       "model_id": "4e8bfd53b09141cf87a6e29a49223caa",
       "version_major": 2,
       "version_minor": 0
      },
      "text/plain": [
       "interactive(children=(IntSlider(value=0, description='a', max=5, min=-5), IntSlider(value=1, description='b', …"
      ]
     },
     "metadata": {},
     "output_type": "display_data"
    },
    {
     "data": {
      "text/plain": [
       "<function __main__.normal_s(mu=0, sigma=1, a=0, b=1)>"
      ]
     },
     "execution_count": 9,
     "metadata": {},
     "output_type": "execute_result"
    }
   ],
   "source": [
    "mu = np.random.randint(-5, 5)\n",
    "sigma = np.random.randint(1,5)\n",
    "print(\"m =\", mu, \"sd =\", sigma)\n",
    "interact(normal_s, mu=fixed(mu), sigma=fixed(sigma), a = (-5,5,1), b=(1,5,1))"
   ]
  },
  {
   "cell_type": "markdown",
   "metadata": {},
   "source": [
    "#### <a id='2.6'></a>Centralne twierdzenie graniczne"
   ]
  },
  {
   "cell_type": "markdown",
   "metadata": {},
   "source": [
    "Ilustracja działania centralnego twierdzenia granicznego. Poniższy wykres przedstawia histogram 10000 średnich z *n*-elementowych wektorów wylosowanych z rozkładu jednostajnego ciągłego o parametrach (0,1) oraz krzywą rozkładu normalnego. Korzystając z listy możesz zwiększyć długość wektora liczb losowych z którego liczona jest średnia."
   ]
  },
  {
   "cell_type": "code",
   "execution_count": 10,
   "metadata": {},
   "outputs": [
    {
     "data": {
      "application/vnd.jupyter.widget-view+json": {
       "model_id": "e703610e13024240ab5db5510731640e",
       "version_major": 2,
       "version_minor": 0
      },
      "text/plain": [
       "interactive(children=(Dropdown(description='n', options=(1, 2, 5, 10, 50, 100), value=1), Output()), _dom_clas…"
      ]
     },
     "metadata": {},
     "output_type": "display_data"
    },
    {
     "data": {
      "text/plain": [
       "<function __main__.clt(n=1)>"
      ]
     },
     "execution_count": 10,
     "metadata": {},
     "output_type": "execute_result"
    }
   ],
   "source": [
    "interact(clt, n=[1,2,5,10,50,100])"
   ]
  },
  {
   "cell_type": "markdown",
   "metadata": {},
   "source": [
    "### <a id='r3'></a>Wnioskowanie statystyczne"
   ]
  },
  {
   "cell_type": "markdown",
   "metadata": {},
   "source": [
    "#### <a id='3.1'></a>Przedział ufności"
   ]
  },
  {
   "cell_type": "markdown",
   "metadata": {},
   "source": [
    "Poniższy wykres przedstawia 100 przedziałów ufności na poziomie ufności 1-*alpha* skonstruowanych dla *n*-elementowych prób z rozkładu normalnego o wartości oczekiwanej 0 i odchyleniu standardowym 1. Kropką została oznaczona średnia z próby, linia pionowa to zakres przedziału, pozioma linia przerywana odpowiada wartości estymowanego parametru *mu*=0. Na pomarańczowo zostały oznaczone przedziały dla których estymowana średnia nie znalazła się w przedziale. Za pomocą suwaków możesz zmieniać parametry *n* i *alpha*."
   ]
  },
  {
   "cell_type": "code",
   "execution_count": 11,
   "metadata": {},
   "outputs": [
    {
     "data": {
      "application/vnd.jupyter.widget-view+json": {
       "model_id": "7c978e8d0a694b1880ad1c42452cf9d5",
       "version_major": 2,
       "version_minor": 0
      },
      "text/plain": [
       "interactive(children=(IntSlider(value=10, description='n', max=1000, min=10, step=100), FloatSlider(value=0.05…"
      ]
     },
     "metadata": {},
     "output_type": "display_data"
    },
    {
     "data": {
      "text/plain": [
       "<function __main__.conf_int(n=10, alpha=0.05)>"
      ]
     },
     "execution_count": 11,
     "metadata": {},
     "output_type": "execute_result"
    }
   ],
   "source": [
    "interact(conf_int, n=(10, 1000, 100), alpha=(0.01, 0.5, 0.05))"
   ]
  },
  {
   "cell_type": "markdown",
   "metadata": {},
   "source": [
    "#### <a id='3.2'></a>Zbiór krytyczny"
   ]
  },
  {
   "cell_type": "markdown",
   "metadata": {},
   "source": [
    "Obszar oznaczony na różowo przedstawia zbiór krytyczny dla wybranego rodzaju testu na poziomie istotności *alpha*."
   ]
  },
  {
   "cell_type": "code",
   "execution_count": 12,
   "metadata": {},
   "outputs": [
    {
     "data": {
      "application/vnd.jupyter.widget-view+json": {
       "model_id": "6c4d2d8314c14607bd0d410431367af0",
       "version_major": 2,
       "version_minor": 0
      },
      "text/plain": [
       "interactive(children=(Dropdown(description='typ_testu', index=1, options=('lewostronny', 'prawostronny', 'dwus…"
      ]
     },
     "metadata": {},
     "output_type": "display_data"
    },
    {
     "data": {
      "text/plain": [
       "<function __main__.critical_region(typ_testu='prawostronny')>"
      ]
     },
     "execution_count": 12,
     "metadata": {},
     "output_type": "execute_result"
    }
   ],
   "source": [
    "interact(critical_region, typ_testu=[\"lewostronny\", \"prawostronny\", \"dwustronny\"])"
   ]
  },
  {
   "cell_type": "markdown",
   "metadata": {},
   "source": [
    "#### <a id='3.3'></a>P-wartość (test prawostronny)"
   ]
  },
  {
   "cell_type": "markdown",
   "metadata": {},
   "source": [
    "*X_bar* to średnia z próby. Czarna pionowa linia na wykresie po lewej stronie przedstawia jej wartość po standaryzacji (*z*), obszar oznaczony na różowo to zbiór krytyczny. Na wykresie po prawej stronie obszar zaznaczony na żółto odpowiada prawdopodobieństwu zaobserwowania wartości równej lub wyższej *x_bar* przy założeniu prawdziwości hipotezy zerowej (p-wartość)."
   ]
  },
  {
   "cell_type": "code",
   "execution_count": 13,
   "metadata": {},
   "outputs": [
    {
     "data": {
      "application/vnd.jupyter.widget-view+json": {
       "model_id": "a5dac716467040adb7c23e0c3b6bb7ec",
       "version_major": 2,
       "version_minor": 0
      },
      "text/plain": [
       "interactive(children=(IntSlider(value=106, description='x_bar', max=110, min=100), Output()), _dom_classes=('w…"
      ]
     },
     "metadata": {},
     "output_type": "display_data"
    },
    {
     "data": {
      "text/plain": [
       "<function __main__.p_value(x_bar=106)>"
      ]
     },
     "execution_count": 13,
     "metadata": {},
     "output_type": "execute_result"
    }
   ],
   "source": [
    "interact(p_value, x_bar=(100, 110, 1))"
   ]
  },
  {
   "cell_type": "markdown",
   "metadata": {},
   "source": [
    "#### <a id='3.4'></a>Rozkład $\\chi^2$"
   ]
  },
  {
   "cell_type": "code",
   "execution_count": 14,
   "metadata": {},
   "outputs": [
    {
     "data": {
      "application/vnd.jupyter.widget-view+json": {
       "model_id": "2690fea5a9234a4f934fa02eae1f7fc6",
       "version_major": 2,
       "version_minor": 0
      },
      "text/plain": [
       "interactive(children=(IntSlider(value=1, description='k', max=40, min=1), Output()), _dom_classes=('widget-int…"
      ]
     },
     "metadata": {},
     "output_type": "display_data"
    },
    {
     "data": {
      "text/plain": [
       "<function __main__.chi_sq(k=1)>"
      ]
     },
     "execution_count": 14,
     "metadata": {},
     "output_type": "execute_result"
    }
   ],
   "source": [
    "interact(chi_sq, k=(1,40,1))"
   ]
  },
  {
   "cell_type": "markdown",
   "metadata": {},
   "source": [
    "#### <a id='3.5'></a>Rozkład t a rozkład normalny"
   ]
  },
  {
   "cell_type": "markdown",
   "metadata": {},
   "source": [
    "Czarna przerywana krzywa przedstawia rozkład normalny o wartości oczekiwanej 0 i odchyleniu standardowym 1. Niebieska krzywa przedstawia rozkład t o *k* stopniach swobody. Obszar zaznaczony na różowo odpowiada prawdopodobieństwu, że zmienna losowa *T* przyjmie wartość mniejszą niż 1.64. Za pomocą suwaka możesz zmieniać wartość parametru *k*."
   ]
  },
  {
   "cell_type": "code",
   "execution_count": 15,
   "metadata": {},
   "outputs": [
    {
     "data": {
      "application/vnd.jupyter.widget-view+json": {
       "model_id": "30deb0b34d664240a69f5f73ff38fb2b",
       "version_major": 2,
       "version_minor": 0
      },
      "text/plain": [
       "interactive(children=(IntSlider(value=1, description='k', min=1), Output()), _dom_classes=('widget-interact',)…"
      ]
     },
     "metadata": {},
     "output_type": "display_data"
    },
    {
     "data": {
      "text/plain": [
       "<function __main__.t_dist(k=1)>"
      ]
     },
     "execution_count": 15,
     "metadata": {},
     "output_type": "execute_result"
    }
   ],
   "source": [
    "interact(t_dist, k=(1,100,1))"
   ]
  },
  {
   "cell_type": "markdown",
   "metadata": {},
   "source": [
    "#### <a id='3.6'></a>Błędy I i II rodzaju"
   ]
  },
  {
   "cell_type": "markdown",
   "metadata": {},
   "source": [
    "Niebieska krzywa przedstawia rozkład statystyki testowej dla założonej w hipotezie zerowej wartości *mu0*=100. Pomarańczowa krzywa przedstawia rozkład statystyki testowej dla alternatywnej wartości testowanego parametru *mu1*. Na różowo oznaczone zostało prawdopodobieństwo popełnienia błędu I rodzaju *alpha* (test prawostronny). Na zielono oznaczone zostało prawdopodobieństwo popełnienia błędu II rodzaju *Beta*. Za pomocą suwaków możesz zmieniać poziom istotności *alpha*, wartość parametru *mu1* i liczność próby *n*. "
   ]
  },
  {
   "cell_type": "code",
   "execution_count": 16,
   "metadata": {},
   "outputs": [
    {
     "data": {
      "application/vnd.jupyter.widget-view+json": {
       "model_id": "790b21be869d463f80f1f3552d84059e",
       "version_major": 2,
       "version_minor": 0
      },
      "text/plain": [
       "interactive(children=(FloatSlider(value=0.05, description='alpha', max=0.25, min=0.01, step=0.01), IntSlider(v…"
      ]
     },
     "metadata": {},
     "output_type": "display_data"
    },
    {
     "data": {
      "text/plain": [
       "<function __main__.alpha_beta(alpha=0.05, mu1=107, n=30)>"
      ]
     },
     "execution_count": 16,
     "metadata": {},
     "output_type": "execute_result"
    }
   ],
   "source": [
    "interact(alpha_beta, alpha=(0.01, 0.25, 0.01), mu1=(100, 110, 1), n=(30, 500, 5))"
   ]
  },
  {
   "cell_type": "markdown",
   "metadata": {},
   "source": [
    "#### <a id='3.7'></a>Test statystyczny a przedział ufności"
   ]
  },
  {
   "cell_type": "markdown",
   "metadata": {},
   "source": [
    "Poniższy wykres ilustruje zależność pomiędzy dwustronnym testem statystycznym dla jednej populacji na poziomie istotności *alpha* a przedziałem ufności dla wartości średniej rozkładu normalnego na poziomie ufności 1-*alpha*. Wartość parametru *mu* założona w hipotezie zerowej to 100. Rozmiar próby wynosi 30. Na różowo został oznaczony zbiór krytyczny w teście dwustronnym na poziomie istotności *alpha*. Oznaczona czerwoną kropką *x_bar* to wartość statystyki z próby. Czerwone \"wąsy\" oznaczają przedział ufności skonstruowany w oparciu o *x_bar*. Za pomocą suwaka możesz zmieniać wartość *x_bar*. Aby odrzucić hipotezę zerową wartość statystyki z próby musi znaleźć się w obszarze krytycznym. Zauważ, że wówczas założone w hipotezie zerowej *mu*=100 znajdzie się poza przedziałem ufności.      "
   ]
  },
  {
   "cell_type": "code",
   "execution_count": 17,
   "metadata": {},
   "outputs": [
    {
     "data": {
      "application/vnd.jupyter.widget-view+json": {
       "model_id": "f867a8020b03434cadacec1c8ee7fe99",
       "version_major": 2,
       "version_minor": 0
      },
      "text/plain": [
       "interactive(children=(IntSlider(value=98, description='x_bar', max=110, min=90), Output()), _dom_classes=('wid…"
      ]
     },
     "metadata": {},
     "output_type": "display_data"
    },
    {
     "data": {
      "text/plain": [
       "<function __main__.conf_int_test(x_bar=98)>"
      ]
     },
     "execution_count": 17,
     "metadata": {},
     "output_type": "execute_result"
    }
   ],
   "source": [
    "interact(conf_int_test, x_bar=(90, 110, 1))"
   ]
  },
  {
   "cell_type": "markdown",
   "metadata": {},
   "source": [
    "### <a id='r4'></a>Analiza zależności zmiennych ilościowych"
   ]
  },
  {
   "cell_type": "markdown",
   "metadata": {},
   "source": [
    "#### <a id='4.1'></a>Kowariancja i korelacja"
   ]
  },
  {
   "cell_type": "markdown",
   "metadata": {},
   "source": [
    "Poniższa wizualizacja przedstawia wykres rozrzutu dwóch zmiennych *x* i *y* dla których policzono próbkowy współczynnik kowariancji i współczynnik korelacji Pearsona. Zastanów się nad znakiem i wartością tych współczynników, a następie je wyświetl, korzystając z opcji \"pokaż\"."
   ]
  },
  {
   "cell_type": "code",
   "execution_count": 18,
   "metadata": {},
   "outputs": [
    {
     "data": {
      "application/vnd.jupyter.widget-view+json": {
       "model_id": "25689f6cb5804ab89afed730b64e8b34",
       "version_major": 2,
       "version_minor": 0
      },
      "text/plain": [
       "interactive(children=(Dropdown(description='przykład', options=('1', '2'), value='1'), Dropdown(description='t…"
      ]
     },
     "metadata": {},
     "output_type": "display_data"
    },
    {
     "data": {
      "text/plain": [
       "<function __main__.corr_examples(przykład='1', typ='kowariancja', pokaż=False)>"
      ]
     },
     "execution_count": 18,
     "metadata": {},
     "output_type": "execute_result"
    }
   ],
   "source": [
    "interact(corr_examples, typ=[\"kowariancja\", \"korelacja\"], przykład=[\"1\", \"2\"])"
   ]
  },
  {
   "cell_type": "markdown",
   "metadata": {},
   "source": [
    "#### <a id='4.2'></a>Rozkład całkowitej zmienności zmiennej objaśnianej"
   ]
  },
  {
   "cell_type": "markdown",
   "metadata": {},
   "source": [
    "Poniższa wizualizacja przedstawia wykres rozrzutu dwóch zmiennych *x* i *y* oraz prostą regresji. Za pomocą parametru *sd* można zwiększać rozrzut danych wokół prostej regresji. Zastanów się jak wraz ze wzrostem rozrzutu będzie zmieniać się proporcja regresyjnej sumy kwadratów (*SSR*) do sumy kwadratów błędów (*SSE*) a następnie je wyświetl korzystając z opcji \"pokaż\"."
   ]
  },
  {
   "cell_type": "code",
   "execution_count": 19,
   "metadata": {},
   "outputs": [
    {
     "data": {
      "application/vnd.jupyter.widget-view+json": {
       "model_id": "82e9bda3e9cb4feb9d78d6266f3d6948",
       "version_major": 2,
       "version_minor": 0
      },
      "text/plain": [
       "interactive(children=(IntSlider(value=0, description='sd', max=10), Checkbox(value=False, description='pokaż')…"
      ]
     },
     "metadata": {},
     "output_type": "display_data"
    },
    {
     "data": {
      "text/plain": [
       "<function __main__.regression(nachylenie=5, sd=0, pokaż=False)>"
      ]
     },
     "execution_count": 19,
     "metadata": {},
     "output_type": "execute_result"
    }
   ],
   "source": [
    "interact(regression, nachylenie=fixed(5), sd=(0,10,1))"
   ]
  },
  {
   "cell_type": "markdown",
   "metadata": {},
   "source": [
    "### <a id='r8'></a>Metoda Monte Carlo"
   ]
  },
  {
   "cell_type": "markdown",
   "metadata": {},
   "source": [
    "#### <a id='8.1'></a>Zastosowanie metody Monte Carlo do szacowania wartości liczby Pi"
   ]
  },
  {
   "cell_type": "markdown",
   "metadata": {},
   "source": [
    "Poniższy wykres ilustruje zastosowanie metody Monte Carlo do szacowania wartości liczby Pi. Ćwierć koła o promieniu 1 jest wpisane w kwadrat o boku 1. Współrzędne 10^*k* punktów są losowane z rozkładu jednostajnego. Proporcja punktów które znalazły się wewnątrz koła do wszystkich punktów przybliża proporcję tych dwóch figur, Pi/4. Pomnożenie tej wartości przez 4 daje oszacowanie wartości liczby Pi."
   ]
  },
  {
   "cell_type": "code",
   "execution_count": 20,
   "metadata": {
    "scrolled": false
   },
   "outputs": [
    {
     "data": {
      "application/vnd.jupyter.widget-view+json": {
       "model_id": "5d0701eab4d249349348ab780f84f84f",
       "version_major": 2,
       "version_minor": 0
      },
      "text/plain": [
       "interactive(children=(IntSlider(value=1, description='k', max=4, min=1), Output()), _dom_classes=('widget-inte…"
      ]
     },
     "metadata": {},
     "output_type": "display_data"
    },
    {
     "data": {
      "text/plain": [
       "<function __main__.monte_carlo(k=1)>"
      ]
     },
     "execution_count": 20,
     "metadata": {},
     "output_type": "execute_result"
    }
   ],
   "source": [
    "interact(monte_carlo, k=(1,4,1))"
   ]
  },
  {
   "cell_type": "markdown",
   "metadata": {},
   "source": [
    "### <a id='r9'></a>Metody Rangowe"
   ]
  },
  {
   "cell_type": "markdown",
   "metadata": {},
   "source": [
    "#### <a id='9.1'></a>Współczynnik korelacji Spearmana a Pearsona"
   ]
  },
  {
   "cell_type": "markdown",
   "metadata": {},
   "source": [
    "Poniższa wizualizacja przedstawia kilka par zmiennych ilościowych. Spróbuj oszacować wartości współczynników korelacji Spearmana i Pearsona dla każdego z przykładów, a następnie je wyświetl korzystając z opcji \"pokaż\". "
   ]
  },
  {
   "cell_type": "code",
   "execution_count": 21,
   "metadata": {
    "scrolled": false
   },
   "outputs": [
    {
     "data": {
      "application/vnd.jupyter.widget-view+json": {
       "model_id": "416733b8b71a44088eeaabfb6846d7ca",
       "version_major": 2,
       "version_minor": 0
      },
      "text/plain": [
       "interactive(children=(Dropdown(description='przykład', options=('1', '2', '3', '4'), value='1'), Checkbox(valu…"
      ]
     },
     "metadata": {},
     "output_type": "display_data"
    },
    {
     "data": {
      "text/plain": [
       "<function __main__.spearman_pearson(przykład='1', pokaż=False)>"
      ]
     },
     "execution_count": 21,
     "metadata": {},
     "output_type": "execute_result"
    }
   ],
   "source": [
    "interact(spearman_pearson, przykład=[\"1\",\"2\",\"3\",\"4\"])"
   ]
  }
 ],
 "metadata": {
  "kernelspec": {
   "display_name": "Python 3",
   "language": "python",
   "name": "python3"
  },
  "language_info": {
   "codemirror_mode": {
    "name": "ipython",
    "version": 3
   },
   "file_extension": ".py",
   "mimetype": "text/x-python",
   "name": "python",
   "nbconvert_exporter": "python",
   "pygments_lexer": "ipython3",
   "version": "3.6.9"
  },
  "latex_envs": {
   "LaTeX_envs_menu_present": true,
   "autoclose": false,
   "autocomplete": true,
   "bibliofile": "biblio.bib",
   "cite_by": "apalike",
   "current_citInitial": 1,
   "eqLabelWithNumbers": true,
   "eqNumInitial": 1,
   "hotkeys": {
    "equation": "Ctrl-E",
    "itemize": "Ctrl-I"
   },
   "labels_anchors": false,
   "latex_user_defs": false,
   "report_style_numbering": false,
   "user_envs_cfg": false
  }
 },
 "nbformat": 4,
 "nbformat_minor": 4
}
